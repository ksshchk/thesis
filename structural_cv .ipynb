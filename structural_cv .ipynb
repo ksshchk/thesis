{
 "cells": [
  {
   "cell_type": "code",
   "execution_count": 31,
   "metadata": {
    "collapsed": false
   },
   "outputs": [
    {
     "name": "stdout",
     "output_type": "stream",
     "text": [
      "-rw-rw-r-- 1 user user 10000 мая    7 17:07 /home/user/Desktop/bent_wmedian_axis/cropped/bent_wmedian_9_9_9.raw-100.raw\r\n"
     ]
    }
   ],
   "source": [
    "ls -l /home/user/Desktop/bent_wmedian_axis/cropped/bent_wmedian_9_9_9.raw-100.raw"
   ]
  },
  {
   "cell_type": "code",
   "execution_count": 32,
   "metadata": {
    "collapsed": true
   },
   "outputs": [],
   "source": [
    "# import opencv and read files\n",
    "import cv2\n",
    "import numpy as np\n",
    "\n",
    "def read_image(path):\n",
    "    bytes = None\n",
    "    with open(path, 'rb') as f:\n",
    "        bytes = f.read()\n",
    "    return np.fromstring(bytes, dtype=np.uint8).reshape(100, 100)"
   ]
  },
  {
   "cell_type": "code",
   "execution_count": 33,
   "metadata": {
    "collapsed": false,
    "scrolled": true
   },
   "outputs": [
    {
     "data": {
      "image/png": "[encoded data removed]",
      "text/plain": [
       "<matplotlib.figure.Figure at 0x7f9684b92510>"
      ]
     },
     "metadata": {},
     "output_type": "display_data"
    }
   ],
   "source": [
    "import matplotlib.pyplot as plt\n",
    "%matplotlib inline\n",
    "\n",
    "img = read_image('/home/user/Desktop/bent_wmedian_axis/cropped/bent_wmedian_9_9_9.raw-100.raw')\n",
    "plt.imshow(img, cmap='gray')\n",
    "type(img)\n",
    "# create cenvas for pictures\n",
    "canvas = np.zeros(img.shape, np.uint8)"
   ]
  },
  {
   "cell_type": "code",
   "execution_count": 34,
   "metadata": {
    "collapsed": false
   },
   "outputs": [
    {
     "name": "stdout",
     "output_type": "stream",
     "text": [
      "{'mu02': 357042.0833712416, 'mu03': -716885.825837493, 'm11': 6800814.041666666, 'nu02': 0.16624468233780065, 'm12': 398795241.5, 'mu21': 280034.80785614904, 'mu20': 99579.49619962834, 'nu20': 0.046365855690609185, 'm30': 956864897.0, 'nu21': 0.0034060220864874113, 'mu11': -7840.5875080553815, 'mu12': 1035941.3579283394, 'nu11': -0.003650706850326942, 'nu12': 0.012600002022685004, 'm02': 4636039.916666666, 'm03': 288379043.45, 'm00': 1465.5, 'm01': 79188.83333333333, 'mu30': -310004.9620347023, 'nu30': -0.00377054465369635, 'nu03': -0.008719376619589944, 'm10': 126003.66666666666, 'm20': 10933372.75, 'm21': 589720599.0666666}\n"
     ]
    },
    {
     "data": {
      "image/png": "[encoded data removed]",
      "text/plain": [
       "<matplotlib.figure.Figure at 0x7f9684b31550>"
      ]
     },
     "metadata": {},
     "output_type": "display_data"
    }
   ],
   "source": [
    "#Find contours\n",
    "# cv2.drawContours(img, contours, -1, (0,255,0), 3)\n",
    "# contours,hierarchy = cv2.findContours(img,2,1)\n",
    "image, contours, hierarchy = cv2.findContours(img,cv2.RETR_TREE,cv2.CHAIN_APPROX_SIMPLE)\n",
    "imgColor = cv2.cvtColor(img, cv2.COLOR_GRAY2BGR)\n",
    "img = cv2.drawContours(imgColor, contours, -1, (0,255,0), 3)\n",
    "plt.imshow(imgColor)\n",
    "#Hu = cv2.HuMoments(cv2.moments(img)).flatten()\n",
    "#Calculate hull and defects \n",
    "# hull = cv2.convexHull(cnt,returnPoints = False)\n",
    "# defects = cv2.convexityDefects(cnt,hull)\n",
    "cnt = contours[0]\n",
    "M = cv2.moments(cnt)\n",
    "print M\n"
   ]
  },
  {
   "cell_type": "code",
   "execution_count": 35,
   "metadata": {
    "collapsed": false
   },
   "outputs": [
    {
     "name": "stdout",
     "output_type": "stream",
     "text": [
      "1465.5\n"
     ]
    }
   ],
   "source": [
    "area = cv2.contourArea(cnt)\n",
    "print area"
   ]
  },
  {
   "cell_type": "code",
   "execution_count": 36,
   "metadata": {
    "collapsed": false
   },
   "outputs": [
    {
     "name": "stdout",
     "output_type": "stream",
     "text": [
      "173.296463251\n"
     ]
    }
   ],
   "source": [
    "perimeter = cv2.arcLength(cnt,True)\n",
    "print perimeter"
   ]
  },
  {
   "cell_type": "code",
   "execution_count": 48,
   "metadata": {
    "collapsed": false
   },
   "outputs": [
    {
     "name": "stdout",
     "output_type": "stream",
     "text": [
      "[[[88 21]]\n",
      "\n",
      " [[66 65]]\n",
      "\n",
      " [[99 87]]]\n"
     ]
    },
    {
     "ename": "error",
     "evalue": "/io/opencv/modules/imgproc/src/color.cpp:9765: error: (-215) scn == 1 && (dcn == 3 || dcn == 4) in function cvtColor\n",
     "output_type": "error",
     "traceback": [
      "\u001b[1;31m---------------------------------------------------------------------------\u001b[0m",
      "\u001b[1;31merror\u001b[0m                                     Traceback (most recent call last)",
      "\u001b[1;32m<ipython-input-48-866f06c9be51>\u001b[0m in \u001b[0;36m<module>\u001b[1;34m()\u001b[0m\n\u001b[0;32m      3\u001b[0m \u001b[1;31m#plt.imshow(img, cnt, approx)\u001b[0m\u001b[1;33m\u001b[0m\u001b[1;33m\u001b[0m\u001b[0m\n\u001b[0;32m      4\u001b[0m \u001b[1;32mprint\u001b[0m \u001b[0mapprox\u001b[0m\u001b[1;33m\u001b[0m\u001b[0m\n\u001b[1;32m----> 5\u001b[1;33m \u001b[0mimgColor\u001b[0m \u001b[1;33m=\u001b[0m \u001b[0mcv2\u001b[0m\u001b[1;33m.\u001b[0m\u001b[0mcvtColor\u001b[0m\u001b[1;33m(\u001b[0m\u001b[0mimg\u001b[0m\u001b[1;33m,\u001b[0m \u001b[0mcv2\u001b[0m\u001b[1;33m.\u001b[0m\u001b[0mCOLOR_GRAY2BGR\u001b[0m\u001b[1;33m)\u001b[0m\u001b[1;33m\u001b[0m\u001b[0m\n\u001b[0m\u001b[0;32m      6\u001b[0m \u001b[1;31m#cv2.drawContours(imgColor, contours, -1, (0,255,0), 3)\u001b[0m\u001b[1;33m\u001b[0m\u001b[1;33m\u001b[0m\u001b[0m\n\u001b[0;32m      7\u001b[0m \u001b[0mimg\u001b[0m \u001b[1;33m=\u001b[0m \u001b[0mcv2\u001b[0m\u001b[1;33m.\u001b[0m\u001b[0mdrawContours\u001b[0m\u001b[1;33m(\u001b[0m\u001b[0mimgColor\u001b[0m\u001b[1;33m,\u001b[0m \u001b[0mapprox\u001b[0m\u001b[1;33m,\u001b[0m \u001b[1;33m-\u001b[0m\u001b[1;36m1\u001b[0m\u001b[1;33m,\u001b[0m \u001b[1;33m(\u001b[0m\u001b[1;36m0\u001b[0m\u001b[1;33m,\u001b[0m\u001b[1;36m255\u001b[0m\u001b[1;33m,\u001b[0m\u001b[1;36m0\u001b[0m\u001b[1;33m)\u001b[0m\u001b[1;33m,\u001b[0m \u001b[1;36m3\u001b[0m\u001b[1;33m)\u001b[0m\u001b[1;33m\u001b[0m\u001b[0m\n",
      "\u001b[1;31merror\u001b[0m: /io/opencv/modules/imgproc/src/color.cpp:9765: error: (-215) scn == 1 && (dcn == 3 || dcn == 4) in function cvtColor\n"
     ]
    }
   ],
   "source": [
    "epsilon = 0.1*cv2.arcLength(cnt,True)\n",
    "approx = cv2.approxPolyDP(cnt,epsilon,True)\n",
    "#plt.imshow(img, cnt, approx)\n",
    "print approx\n",
    "imgColor = cv2.cvtColor(img, cv2.COLOR_GRAY2BGR)\n",
    "#cv2.drawContours(imgColor, contours, -1, (0,255,0), 3)\n",
    "img = cv2.drawContours(imgColor, approx, -1, (0,255,0), 3)\n",
    "plt.imshow(imgColor)"
   ]
  },
  {
   "cell_type": "code",
   "execution_count": 46,
   "metadata": {
    "collapsed": false
   },
   "outputs": [
    {
     "name": "stdout",
     "output_type": "stream",
     "text": [
      "[[[99 87]]\n",
      "\n",
      " [[98 87]]\n",
      "\n",
      " [[93 85]]\n",
      "\n",
      " [[91 84]]\n",
      "\n",
      " [[75 73]]\n",
      "\n",
      " [[70 69]]\n",
      "\n",
      " [[66 65]]\n",
      "\n",
      " [[66 59]]\n",
      "\n",
      " [[67 54]]\n",
      "\n",
      " [[68 52]]\n",
      "\n",
      " [[82 25]]\n",
      "\n",
      " [[83 24]]\n",
      "\n",
      " [[86 22]]\n",
      "\n",
      " [[88 21]]\n",
      "\n",
      " [[95 23]]\n",
      "\n",
      " [[99 25]]]\n",
      "[[50]\n",
      " [49]\n",
      " [45]\n",
      " [43]\n",
      " [33]\n",
      " [31]\n",
      " [30]\n",
      " [29]\n",
      " [27]\n",
      " [25]\n",
      " [ 5]\n",
      " [ 4]\n",
      " [ 2]\n",
      " [ 0]\n",
      " [62]\n",
      " [58]]\n",
      "False\n"
     ]
    }
   ],
   "source": [
    "hull = cv2.convexHull(cnt)\n",
    "#defects = cv2.convexityDefects(cnt,hull)\n",
    "hull_false = cv2.convexHull(cnt,returnPoints = False)\n",
    "print hull\n",
    "print hull_false\n",
    "k = cv2.isContourConvex(cnt)\n",
    "print k"
   ]
  },
  {
   "cell_type": "markdown",
   "metadata": {},
   "source": [
    "## HOG\n"
   ]
  },
  {
   "cell_type": "code",
   "execution_count": 39,
   "metadata": {
    "collapsed": false
   },
   "outputs": [
    {
     "name": "stdout",
     "output_type": "stream",
     "text": [
      "[[ 0.  0.  0. ...,  0.  0.  0.]\n",
      " [ 0.  0.  0. ...,  0.  0.  0.]\n",
      " [ 0.  0.  0. ...,  0.  0.  0.]\n",
      " ..., \n",
      " [ 0.  0.  0. ...,  0.  0.  0.]\n",
      " [ 0.  0.  0. ...,  0.  0.  0.]\n",
      " [ 0.  0.  0. ...,  0.  0.  0.]]\n"
     ]
    }
   ],
   "source": [
    "# horizontal and vertical gradients\n",
    "gx = cv2.Sobel(img, cv2.CV_32F, 1, 0, ksize=1)\n",
    "gy = cv2.Sobel(img, cv2.CV_32F, 0, 1, ksize=1)\n",
    "\n",
    "#magnitude and direction of gradient\n",
    "mag, angle = cv2.cartToPolar(gx, gy, angleInDegrees=True)\n"
   ]
  },
  {
   "cell_type": "code",
   "execution_count": null,
   "metadata": {
    "collapsed": true
   },
   "outputs": [],
   "source": []
  }
 ],
 "metadata": {
  "kernelspec": {
   "display_name": "Python 2",
   "language": "python",
   "name": "python2"
  },
  "language_info": {
   "codemirror_mode": {
    "name": "ipython",
    "version": 2
   },
   "file_extension": ".py",
   "mimetype": "text/x-python",
   "name": "python",
   "nbconvert_exporter": "python",
   "pygments_lexer": "ipython2",
   "version": "2.7.12"
  }
 },
 "nbformat": 4,
 "nbformat_minor": 0
}
